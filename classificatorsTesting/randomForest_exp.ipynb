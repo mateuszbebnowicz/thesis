{
 "cells": [
  {
   "cell_type": "code",
   "execution_count": 1,
   "metadata": {},
   "outputs": [],
   "source": [
    "from sklearn.model_selection import train_test_split\n",
    "import pandas as pd\n",
    "\n",
    "diabetes_data_preprocessed = pd.read_csv('../data/preprocessed_dataset.csv')\n",
    "# Assuming 'diabetes_data_preprocessed' is your preprocessed dataset\n",
    "# and 'diabetes' is the target variable\n",
    "X = diabetes_data_preprocessed.drop('diabetes', axis=1)\n",
    "y = diabetes_data_preprocessed['diabetes']\n",
    "\n",
    "# Splitting the dataset into training (80%) and testing (20%) sets\n",
    "X_train, X_test, y_train, y_test = train_test_split(X, y, test_size=0.2, random_state=42)"
   ]
  },
  {
   "cell_type": "code",
   "execution_count": 2,
   "metadata": {},
   "outputs": [
    {
     "name": "stdout",
     "output_type": "stream",
     "text": [
      "Cross-validation scores: [0.9700625 0.9698125 0.9705    0.9696875 0.9685625]\n",
      "Accuracy (Decision Tree): 0.96915\n",
      "Precision (Decision Tree): 0.929866036249015\n",
      "Recall (Decision Tree): 0.6908665105386417\n",
      "F1 Score (Decision Tree): 0.7927443735303997\n",
      "ROC AUC Score (Decision Tree): 0.8430004977797079\n"
     ]
    }
   ],
   "source": [
    "from sklearn.ensemble import RandomForestClassifier\n",
    "from sklearn.model_selection import cross_val_score\n",
    "from sklearn.metrics import accuracy_score, precision_score, recall_score, f1_score, roc_auc_score\n",
    "\n",
    "# Initialize the Decision Tree classifier with default parameters\n",
    "random_forest_clf = RandomForestClassifier()\n",
    "\n",
    "# Train the classifier on the training data\n",
    "random_forest_clf.fit(X_train, y_train)\n",
    "\n",
    "# Predict on the test set\n",
    "y_pred_dt = random_forest_clf.predict(X_test)\n",
    "\n",
    "scores = cross_val_score(random_forest_clf, X_train, y_train, cv=5)\n",
    "\n",
    "# Print the cross-validation scores\n",
    "print(\"Cross-validation scores:\", scores)\n",
    "\n",
    "# Calculate metrics\n",
    "accuracy_dt = accuracy_score(y_test, y_pred_dt)\n",
    "precision_dt = precision_score(y_test, y_pred_dt)\n",
    "recall_dt = recall_score(y_test, y_pred_dt)\n",
    "f1_dt = f1_score(y_test, y_pred_dt)\n",
    "roc_auc_dt = roc_auc_score(y_test, y_pred_dt)\n",
    "\n",
    "# Print the metrics\n",
    "print(f\"Accuracy (Random Forest): {accuracy_dt}\")\n",
    "print(f\"Precision (Random Forest): {precision_dt}\")\n",
    "print(f\"Recall (Random Forest): {recall_dt}\")\n",
    "print(f\"F1 Score (Random Forest): {f1_dt}\")\n",
    "print(f\"ROC AUC Score (Random Forest): {roc_auc_dt}\")"
   ]
  }
 ],
 "metadata": {
  "kernelspec": {
   "display_name": "eng_thesis",
   "language": "python",
   "name": "python3"
  },
  "language_info": {
   "codemirror_mode": {
    "name": "ipython",
    "version": 3
   },
   "file_extension": ".py",
   "mimetype": "text/x-python",
   "name": "python",
   "nbconvert_exporter": "python",
   "pygments_lexer": "ipython3",
   "version": "3.10.13"
  }
 },
 "nbformat": 4,
 "nbformat_minor": 2
}
