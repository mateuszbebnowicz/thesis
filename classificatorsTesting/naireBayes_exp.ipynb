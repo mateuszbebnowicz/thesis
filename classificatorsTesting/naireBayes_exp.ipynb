{
 "cells": [
  {
   "cell_type": "code",
   "execution_count": 1,
   "metadata": {},
   "outputs": [],
   "source": [
    "from sklearn.model_selection import train_test_split\n",
    "import pandas as pd\n",
    "\n",
    "diabetes_data_preprocessed = pd.read_csv('../data/preprocessed_dataset.csv')\n",
    "# Assuming 'diabetes_data_preprocessed' is your preprocessed dataset\n",
    "# and 'diabetes' is the target variable\n",
    "X = diabetes_data_preprocessed.drop('diabetes', axis=1)\n",
    "y = diabetes_data_preprocessed['diabetes']\n",
    "\n",
    "# Splitting the dataset into training (80%) and testing (20%) sets\n",
    "X_train, X_test, y_train, y_test = train_test_split(X, y, test_size=0.2, random_state=42)"
   ]
  },
  {
   "cell_type": "code",
   "execution_count": 5,
   "metadata": {},
   "outputs": [
    {
     "name": "stdout",
     "output_type": "stream",
     "text": [
      "Cross-validation scores: [0.485625  0.488375  0.516125  0.5089375 0.5024375]\n",
      "Accuracy (Naive Bayes): 0.50715\n",
      "Precision (Naive Bayes): 0.14664816581389298\n",
      "Recall (Naive Bayes): 0.9900468384074942\n",
      "F1 Score (Naive Bayes): 0.255457360827857\n",
      "ROC AUC Score (Naive Bayes): 0.7260533776555294\n"
     ]
    }
   ],
   "source": [
    "from sklearn.naive_bayes import GaussianNB\n",
    "from sklearn.model_selection import cross_val_score\n",
    "from sklearn.metrics import accuracy_score, precision_score, recall_score, f1_score, roc_auc_score\n",
    "\n",
    "# Initialize the Decision Tree classifier with default parameters\n",
    "naive_bayes_clf = GaussianNB()\n",
    "\n",
    "# Train the classifier on the training data\n",
    "naive_bayes_clf.fit(X_train, y_train)\n",
    "\n",
    "# Predict on the test set\n",
    "y_pred = naive_bayes_clf.predict(X_test)\n",
    "\n",
    "scores = cross_val_score(naive_bayes_clf, X_train, y_train, cv=5)\n",
    "\n",
    "# Print the cross-validation scores\n",
    "print(\"Cross-validation scores:\", scores)\n",
    "\n",
    "# Calculate metrics\n",
    "accuracy = accuracy_score(y_test, y_pred)\n",
    "precision = precision_score(y_test, y_pred)\n",
    "recall = recall_score(y_test, y_pred)\n",
    "f1 = f1_score(y_test, y_pred)\n",
    "roc_auc = roc_auc_score(y_test, y_pred)\n",
    "\n",
    "# Print the metrics\n",
    "print(f\"Accuracy (Naive Bayes): {accuracy}\")\n",
    "print(f\"Precision (Naive Bayes): {precision}\")\n",
    "print(f\"Recall (Naive Bayes): {recall}\")\n",
    "print(f\"F1 Score (Naive Bayes): {f1}\")\n",
    "print(f\"ROC AUC Score (Naive Bayes): {roc_auc}\")"
   ]
  }
 ],
 "metadata": {
  "kernelspec": {
   "display_name": "eng_thesis",
   "language": "python",
   "name": "python3"
  },
  "language_info": {
   "codemirror_mode": {
    "name": "ipython",
    "version": 3
   },
   "file_extension": ".py",
   "mimetype": "text/x-python",
   "name": "python",
   "nbconvert_exporter": "python",
   "pygments_lexer": "ipython3",
   "version": "3.10.13"
  }
 },
 "nbformat": 4,
 "nbformat_minor": 2
}
