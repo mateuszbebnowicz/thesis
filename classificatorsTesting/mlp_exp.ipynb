{
 "cells": [
  {
   "cell_type": "code",
   "execution_count": 1,
   "metadata": {},
   "outputs": [],
   "source": [
    "from sklearn.model_selection import train_test_split\n",
    "import pandas as pd\n",
    "\n",
    "diabetes_data_preprocessed = pd.read_csv('../data/preprocessed_dataset.csv')\n",
    "# Assuming 'diabetes_data_preprocessed' is your preprocessed dataset\n",
    "# and 'diabetes' is the target variable\n",
    "X = diabetes_data_preprocessed.drop('diabetes', axis=1)\n",
    "y = diabetes_data_preprocessed['diabetes']\n",
    "\n",
    "# Splitting the dataset into training (80%) and testing (20%) sets\n",
    "X_train, X_test, y_train, y_test = train_test_split(X, y, test_size=0.2, random_state=42)"
   ]
  },
  {
   "cell_type": "code",
   "execution_count": 3,
   "metadata": {},
   "outputs": [
    {
     "name": "stdout",
     "output_type": "stream",
     "text": [
      "Cross-validation scores: [0.9709375 0.9716875 0.9720625 0.9720625 0.971125 ]\n",
      "Accuracy (MLP): 0.9718\n",
      "Precision (MLP): 0.9872231686541738\n",
      "Recall (MLP): 0.6785714285714286\n",
      "F1 Score (MLP): 0.8043025676613463\n",
      "ROC AUC Score (MLP): 0.8388756989784762\n"
     ]
    }
   ],
   "source": [
    "from sklearn.neural_network import MLPClassifier\n",
    "from sklearn.model_selection import cross_val_score\n",
    "from sklearn.metrics import accuracy_score, precision_score, recall_score, f1_score, roc_auc_score\n",
    "\n",
    "# Initialize the Decision Tree classifier with default parameters\n",
    "mlp_clf = MLPClassifier(max_iter=1000)\n",
    "\n",
    "# Train the classifier on the training data\n",
    "mlp_clf.fit(X_train, y_train)\n",
    "\n",
    "# Predict on the test set\n",
    "y_pred = mlp_clf.predict(X_test)\n",
    "\n",
    "scores = cross_val_score(mlp_clf, X_train, y_train, cv=5)\n",
    "\n",
    "# Print the cross-validation scores\n",
    "print(\"Cross-validation scores:\", scores)\n",
    "\n",
    "# Calculate metrics\n",
    "accuracy = accuracy_score(y_test, y_pred)\n",
    "precision = precision_score(y_test, y_pred)\n",
    "recall = recall_score(y_test, y_pred)\n",
    "f1 = f1_score(y_test, y_pred)\n",
    "roc_auc = roc_auc_score(y_test, y_pred)\n",
    "\n",
    "# Print the metrics\n",
    "print(f\"Accuracy (MLP): {accuracy}\")\n",
    "print(f\"Precision (MLP): {precision}\")\n",
    "print(f\"Recall (MLP): {recall}\")\n",
    "print(f\"F1 Score (MLP): {f1}\")\n",
    "print(f\"ROC AUC Score (MLP): {roc_auc}\")"
   ]
  }
 ],
 "metadata": {
  "kernelspec": {
   "display_name": "eng_thesis",
   "language": "python",
   "name": "python3"
  },
  "language_info": {
   "codemirror_mode": {
    "name": "ipython",
    "version": 3
   },
   "file_extension": ".py",
   "mimetype": "text/x-python",
   "name": "python",
   "nbconvert_exporter": "python",
   "pygments_lexer": "ipython3",
   "version": "3.10.13"
  }
 },
 "nbformat": 4,
 "nbformat_minor": 2
}
