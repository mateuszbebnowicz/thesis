{
 "cells": [
  {
   "cell_type": "code",
   "execution_count": 2,
   "metadata": {},
   "outputs": [],
   "source": [
    "from sklearn.model_selection import train_test_split\n",
    "import pandas as pd\n",
    "\n",
    "diabetes_data_preprocessed = pd.read_csv('../data/preprocessed_dataset.csv')\n",
    "# Assuming 'diabetes_data_preprocessed' is your preprocessed dataset\n",
    "# and 'diabetes' is the target variable\n",
    "X = diabetes_data_preprocessed.drop('diabetes', axis=1)\n",
    "y = diabetes_data_preprocessed['diabetes']\n",
    "\n",
    "# Splitting the dataset into training (80%) and testing (20%) sets\n",
    "X_train, X_test, y_train, y_test = train_test_split(X, y, test_size=0.2, random_state=42)"
   ]
  },
  {
   "cell_type": "code",
   "execution_count": 3,
   "metadata": {},
   "outputs": [
    {
     "name": "stdout",
     "output_type": "stream",
     "text": [
      "Cross-validation scores: [0.96325   0.965625  0.9655625 0.9659375 0.9651875]\n",
      "Accuracy (SVC): 0.9643\n",
      "Precision (SVC): 0.9940357852882704\n",
      "Recall (SVC): 0.585480093676815\n",
      "F1 Score (SVC): 0.7369196757553427\n",
      "ROC AUC Score (SVC): 0.7925760407155122\n"
     ]
    }
   ],
   "source": [
    "from sklearn.svm import SVC\n",
    "from sklearn.model_selection import cross_val_score\n",
    "from sklearn.metrics import accuracy_score, precision_score, recall_score, f1_score, roc_auc_score\n",
    "\n",
    "# Initialize the Decision Tree classifier with default parameters\n",
    "svm_clf = SVC()\n",
    "\n",
    "# Train the classifier on the training data\n",
    "svm_clf.fit(X_train, y_train)\n",
    "\n",
    "# Predict on the test set\n",
    "y_pred = svm_clf.predict(X_test)\n",
    "\n",
    "scores = cross_val_score(svm_clf, X_train, y_train, cv=5)\n",
    "\n",
    "# Print the cross-validation scores\n",
    "print(\"Cross-validation scores:\", scores)\n",
    "\n",
    "# Calculate metrics\n",
    "accuracy = accuracy_score(y_test, y_pred)\n",
    "precision = precision_score(y_test, y_pred)\n",
    "recall = recall_score(y_test, y_pred)\n",
    "f1 = f1_score(y_test, y_pred)\n",
    "roc_auc = roc_auc_score(y_test, y_pred)\n",
    "\n",
    "# Print the metrics\n",
    "print(f\"Accuracy (SVC): {accuracy}\")\n",
    "print(f\"Precision (SVC): {precision}\")\n",
    "print(f\"Recall (SVC): {recall}\")\n",
    "print(f\"F1 Score (SVC): {f1}\")\n",
    "print(f\"ROC AUC Score (SVC): {roc_auc}\")"
   ]
  }
 ],
 "metadata": {
  "kernelspec": {
   "display_name": "eng_thesis",
   "language": "python",
   "name": "python3"
  },
  "language_info": {
   "codemirror_mode": {
    "name": "ipython",
    "version": 3
   },
   "file_extension": ".py",
   "mimetype": "text/x-python",
   "name": "python",
   "nbconvert_exporter": "python",
   "pygments_lexer": "ipython3",
   "version": "3.10.13"
  }
 },
 "nbformat": 4,
 "nbformat_minor": 2
}
