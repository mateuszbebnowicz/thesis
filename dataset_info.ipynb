{
 "cells": [
  {
   "cell_type": "code",
   "execution_count": 11,
   "metadata": {},
   "outputs": [
    {
     "data": {
      "text/plain": [
       "{'Number of Rows': 100000,\n",
       " 'Number of Columns': 9,\n",
       " 'Column Names': ['gender',\n",
       "  'age',\n",
       "  'hypertension',\n",
       "  'heart_disease',\n",
       "  'smoking_history',\n",
       "  'bmi',\n",
       "  'HbA1c_level',\n",
       "  'blood_glucose_level',\n",
       "  'diabetes'],\n",
       " 'First 5 Rows':    gender   age  hypertension  heart_disease smoking_history    bmi  \\\n",
       " 0  Female  80.0             0              1           never  25.19   \n",
       " 1  Female  54.0             0              0         No Info  27.32   \n",
       " 2    Male  28.0             0              0           never  27.32   \n",
       " 3  Female  36.0             0              0         current  23.45   \n",
       " 4    Male  76.0             1              1         current  20.14   \n",
       " \n",
       "    HbA1c_level  blood_glucose_level  diabetes  \n",
       " 0          6.6                  140         0  \n",
       " 1          6.6                   80         0  \n",
       " 2          5.7                  158         0  \n",
       " 3          5.0                  155         0  \n",
       " 4          4.8                  155         0  ,\n",
       " 'Data Summary':                  age  hypertension  heart_disease            bmi  \\\n",
       " count  100000.000000  100000.00000  100000.000000  100000.000000   \n",
       " mean       41.885856       0.07485       0.039420      27.320767   \n",
       " std        22.516840       0.26315       0.194593       6.636783   \n",
       " min         0.080000       0.00000       0.000000      10.010000   \n",
       " 25%        24.000000       0.00000       0.000000      23.630000   \n",
       " 50%        43.000000       0.00000       0.000000      27.320000   \n",
       " 75%        60.000000       0.00000       0.000000      29.580000   \n",
       " max        80.000000       1.00000       1.000000      95.690000   \n",
       " \n",
       "          HbA1c_level  blood_glucose_level       diabetes  \n",
       " count  100000.000000        100000.000000  100000.000000  \n",
       " mean        5.527507           138.058060       0.085000  \n",
       " std         1.070672            40.708136       0.278883  \n",
       " min         3.500000            80.000000       0.000000  \n",
       " 25%         4.800000           100.000000       0.000000  \n",
       " 50%         5.800000           140.000000       0.000000  \n",
       " 75%         6.200000           159.000000       0.000000  \n",
       " max         9.000000           300.000000       1.000000  }"
      ]
     },
     "execution_count": 11,
     "metadata": {},
     "output_type": "execute_result"
    }
   ],
   "source": [
    "import pandas as pd\n",
    "\n",
    "# Load the dataset\n",
    "file_path = 'data/diabetes_prediction_dataset.csv'\n",
    "diabetes_data = pd.read_csv(file_path)\n",
    "\n",
    "# Display basic information about the dataset\n",
    "dataset_info = {\n",
    "    \"Number of Rows\": diabetes_data.shape[0],\n",
    "    \"Number of Columns\": diabetes_data.shape[1],\n",
    "    \"Column Names\": diabetes_data.columns.tolist(),\n",
    "    \"First 5 Rows\": diabetes_data.head(),\n",
    "    \"Data Summary\": diabetes_data.describe()\n",
    "}\n",
    "\n",
    "dataset_info"
   ]
  }
 ],
 "metadata": {
  "kernelspec": {
   "display_name": "eng_thesis",
   "language": "python",
   "name": "python3"
  },
  "language_info": {
   "codemirror_mode": {
    "name": "ipython",
    "version": 3
   },
   "file_extension": ".py",
   "mimetype": "text/x-python",
   "name": "python",
   "nbconvert_exporter": "python",
   "pygments_lexer": "ipython3",
   "version": "3.12.0"
  }
 },
 "nbformat": 4,
 "nbformat_minor": 2
}
